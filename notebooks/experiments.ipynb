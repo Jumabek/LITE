{
 "cells": [
  {
   "cell_type": "code",
   "execution_count": 1,
   "metadata": {},
   "outputs": [],
   "source": [
    "import os\n",
    "\n",
    "import pandas as pd\n",
    "\n",
    "import seaborn as sns\n",
    "import matplotlib.pyplot as plt"
   ]
  },
  {
   "cell_type": "code",
   "execution_count": 2,
   "metadata": {},
   "outputs": [],
   "source": [
    "sequence_map = {\n",
    "    'MOT17' : ['MOT17-13-FRCNN', 'MOT17-09-FRCNN', 'MOT17-10-FRCNN',\n",
    "       'MOT17-11-FRCNN', 'MOT17-04-FRCNN', 'MOT17-05-FRCNN',\n",
    "       'MOT17-02-FRCNN'],\n",
    "    'MOT20' : ['MOT20-01', 'MOT20-03', 'MOT20-02', 'MOT20-05']  \n",
    "}"
   ]
  },
  {
   "cell_type": "code",
   "execution_count": 3,
   "metadata": {},
   "outputs": [
    {
     "data": {
      "application/vnd.microsoft.datawrangler.viewer.v0+json": {
       "columns": [
        {
         "name": "index",
         "rawType": "int64",
         "type": "integer"
        },
        {
         "name": "dataset",
         "rawType": "object",
         "type": "string"
        },
        {
         "name": "video",
         "rawType": "object",
         "type": "string"
        },
        {
         "name": "frame_number",
         "rawType": "int64",
         "type": "integer"
        },
        {
         "name": "track_id",
         "rawType": "int64",
         "type": "integer"
        }
       ],
       "conversionMethod": "pd.DataFrame",
       "ref": "603e1e4e-6c4d-47a1-b6d3-a59c25d4c68e",
       "rows": [
        [
         "0",
         "MOT17",
         "MOT17-13-FRCNN",
         "1",
         "1"
        ],
        [
         "1",
         "MOT17",
         "MOT17-13-FRCNN",
         "2",
         "1"
        ],
        [
         "2",
         "MOT17",
         "MOT17-13-FRCNN",
         "3",
         "1"
        ],
        [
         "3",
         "MOT17",
         "MOT17-13-FRCNN",
         "4",
         "1"
        ],
        [
         "4",
         "MOT17",
         "MOT17-13-FRCNN",
         "5",
         "1"
        ],
        [
         "5",
         "MOT17",
         "MOT17-13-FRCNN",
         "6",
         "1"
        ],
        [
         "6",
         "MOT17",
         "MOT17-13-FRCNN",
         "7",
         "1"
        ],
        [
         "7",
         "MOT17",
         "MOT17-13-FRCNN",
         "8",
         "1"
        ],
        [
         "8",
         "MOT17",
         "MOT17-13-FRCNN",
         "9",
         "1"
        ],
        [
         "9",
         "MOT17",
         "MOT17-13-FRCNN",
         "10",
         "1"
        ],
        [
         "10",
         "MOT17",
         "MOT17-13-FRCNN",
         "11",
         "1"
        ],
        [
         "11",
         "MOT17",
         "MOT17-13-FRCNN",
         "12",
         "1"
        ],
        [
         "12",
         "MOT17",
         "MOT17-13-FRCNN",
         "13",
         "1"
        ],
        [
         "13",
         "MOT17",
         "MOT17-13-FRCNN",
         "14",
         "1"
        ],
        [
         "14",
         "MOT17",
         "MOT17-13-FRCNN",
         "15",
         "1"
        ],
        [
         "15",
         "MOT17",
         "MOT17-13-FRCNN",
         "16",
         "1"
        ],
        [
         "16",
         "MOT17",
         "MOT17-13-FRCNN",
         "17",
         "1"
        ],
        [
         "17",
         "MOT17",
         "MOT17-13-FRCNN",
         "18",
         "1"
        ],
        [
         "18",
         "MOT17",
         "MOT17-13-FRCNN",
         "19",
         "1"
        ],
        [
         "19",
         "MOT17",
         "MOT17-13-FRCNN",
         "20",
         "1"
        ],
        [
         "20",
         "MOT17",
         "MOT17-13-FRCNN",
         "21",
         "1"
        ],
        [
         "21",
         "MOT17",
         "MOT17-13-FRCNN",
         "22",
         "1"
        ],
        [
         "22",
         "MOT17",
         "MOT17-13-FRCNN",
         "23",
         "1"
        ],
        [
         "23",
         "MOT17",
         "MOT17-13-FRCNN",
         "24",
         "1"
        ],
        [
         "24",
         "MOT17",
         "MOT17-13-FRCNN",
         "25",
         "1"
        ],
        [
         "25",
         "MOT17",
         "MOT17-13-FRCNN",
         "26",
         "1"
        ],
        [
         "26",
         "MOT17",
         "MOT17-13-FRCNN",
         "27",
         "1"
        ],
        [
         "27",
         "MOT17",
         "MOT17-13-FRCNN",
         "28",
         "1"
        ],
        [
         "28",
         "MOT17",
         "MOT17-13-FRCNN",
         "29",
         "1"
        ],
        [
         "29",
         "MOT17",
         "MOT17-13-FRCNN",
         "30",
         "1"
        ],
        [
         "30",
         "MOT17",
         "MOT17-13-FRCNN",
         "31",
         "1"
        ],
        [
         "31",
         "MOT17",
         "MOT17-13-FRCNN",
         "32",
         "1"
        ],
        [
         "32",
         "MOT17",
         "MOT17-13-FRCNN",
         "33",
         "1"
        ],
        [
         "33",
         "MOT17",
         "MOT17-13-FRCNN",
         "34",
         "1"
        ],
        [
         "34",
         "MOT17",
         "MOT17-13-FRCNN",
         "35",
         "1"
        ],
        [
         "35",
         "MOT17",
         "MOT17-13-FRCNN",
         "36",
         "1"
        ],
        [
         "36",
         "MOT17",
         "MOT17-13-FRCNN",
         "37",
         "1"
        ],
        [
         "37",
         "MOT17",
         "MOT17-13-FRCNN",
         "38",
         "1"
        ],
        [
         "38",
         "MOT17",
         "MOT17-13-FRCNN",
         "39",
         "1"
        ],
        [
         "39",
         "MOT17",
         "MOT17-13-FRCNN",
         "40",
         "1"
        ],
        [
         "40",
         "MOT17",
         "MOT17-13-FRCNN",
         "41",
         "1"
        ],
        [
         "41",
         "MOT17",
         "MOT17-13-FRCNN",
         "42",
         "1"
        ],
        [
         "42",
         "MOT17",
         "MOT17-13-FRCNN",
         "43",
         "1"
        ],
        [
         "43",
         "MOT17",
         "MOT17-13-FRCNN",
         "44",
         "1"
        ],
        [
         "44",
         "MOT17",
         "MOT17-13-FRCNN",
         "45",
         "1"
        ],
        [
         "45",
         "MOT17",
         "MOT17-13-FRCNN",
         "46",
         "1"
        ],
        [
         "46",
         "MOT17",
         "MOT17-13-FRCNN",
         "47",
         "1"
        ],
        [
         "47",
         "MOT17",
         "MOT17-13-FRCNN",
         "48",
         "1"
        ],
        [
         "48",
         "MOT17",
         "MOT17-13-FRCNN",
         "49",
         "1"
        ],
        [
         "49",
         "MOT17",
         "MOT17-13-FRCNN",
         "50",
         "1"
        ]
       ],
       "shape": {
        "columns": 4,
        "rows": 1541621
       }
      },
      "text/html": [
       "<div>\n",
       "<style scoped>\n",
       "    .dataframe tbody tr th:only-of-type {\n",
       "        vertical-align: middle;\n",
       "    }\n",
       "\n",
       "    .dataframe tbody tr th {\n",
       "        vertical-align: top;\n",
       "    }\n",
       "\n",
       "    .dataframe thead th {\n",
       "        text-align: right;\n",
       "    }\n",
       "</style>\n",
       "<table border=\"1\" class=\"dataframe\">\n",
       "  <thead>\n",
       "    <tr style=\"text-align: right;\">\n",
       "      <th></th>\n",
       "      <th>dataset</th>\n",
       "      <th>video</th>\n",
       "      <th>frame_number</th>\n",
       "      <th>track_id</th>\n",
       "    </tr>\n",
       "  </thead>\n",
       "  <tbody>\n",
       "    <tr>\n",
       "      <th>0</th>\n",
       "      <td>MOT17</td>\n",
       "      <td>MOT17-13-FRCNN</td>\n",
       "      <td>1</td>\n",
       "      <td>1</td>\n",
       "    </tr>\n",
       "    <tr>\n",
       "      <th>1</th>\n",
       "      <td>MOT17</td>\n",
       "      <td>MOT17-13-FRCNN</td>\n",
       "      <td>2</td>\n",
       "      <td>1</td>\n",
       "    </tr>\n",
       "    <tr>\n",
       "      <th>2</th>\n",
       "      <td>MOT17</td>\n",
       "      <td>MOT17-13-FRCNN</td>\n",
       "      <td>3</td>\n",
       "      <td>1</td>\n",
       "    </tr>\n",
       "    <tr>\n",
       "      <th>3</th>\n",
       "      <td>MOT17</td>\n",
       "      <td>MOT17-13-FRCNN</td>\n",
       "      <td>4</td>\n",
       "      <td>1</td>\n",
       "    </tr>\n",
       "    <tr>\n",
       "      <th>4</th>\n",
       "      <td>MOT17</td>\n",
       "      <td>MOT17-13-FRCNN</td>\n",
       "      <td>5</td>\n",
       "      <td>1</td>\n",
       "    </tr>\n",
       "    <tr>\n",
       "      <th>...</th>\n",
       "      <td>...</td>\n",
       "      <td>...</td>\n",
       "      <td>...</td>\n",
       "      <td>...</td>\n",
       "    </tr>\n",
       "    <tr>\n",
       "      <th>1541616</th>\n",
       "      <td>MOT20</td>\n",
       "      <td>MOT20-05</td>\n",
       "      <td>1444</td>\n",
       "      <td>1211</td>\n",
       "    </tr>\n",
       "    <tr>\n",
       "      <th>1541617</th>\n",
       "      <td>MOT20</td>\n",
       "      <td>MOT20-05</td>\n",
       "      <td>1445</td>\n",
       "      <td>1211</td>\n",
       "    </tr>\n",
       "    <tr>\n",
       "      <th>1541618</th>\n",
       "      <td>MOT20</td>\n",
       "      <td>MOT20-05</td>\n",
       "      <td>1446</td>\n",
       "      <td>1211</td>\n",
       "    </tr>\n",
       "    <tr>\n",
       "      <th>1541619</th>\n",
       "      <td>MOT20</td>\n",
       "      <td>MOT20-05</td>\n",
       "      <td>1447</td>\n",
       "      <td>1211</td>\n",
       "    </tr>\n",
       "    <tr>\n",
       "      <th>1541620</th>\n",
       "      <td>MOT20</td>\n",
       "      <td>MOT20-05</td>\n",
       "      <td>1448</td>\n",
       "      <td>1211</td>\n",
       "    </tr>\n",
       "  </tbody>\n",
       "</table>\n",
       "<p>1541621 rows × 4 columns</p>\n",
       "</div>"
      ],
      "text/plain": [
       "        dataset           video  frame_number  track_id\n",
       "0         MOT17  MOT17-13-FRCNN             1         1\n",
       "1         MOT17  MOT17-13-FRCNN             2         1\n",
       "2         MOT17  MOT17-13-FRCNN             3         1\n",
       "3         MOT17  MOT17-13-FRCNN             4         1\n",
       "4         MOT17  MOT17-13-FRCNN             5         1\n",
       "...         ...             ...           ...       ...\n",
       "1541616   MOT20        MOT20-05          1444      1211\n",
       "1541617   MOT20        MOT20-05          1445      1211\n",
       "1541618   MOT20        MOT20-05          1446      1211\n",
       "1541619   MOT20        MOT20-05          1447      1211\n",
       "1541620   MOT20        MOT20-05          1448      1211\n",
       "\n",
       "[1541621 rows x 4 columns]"
      ]
     },
     "execution_count": 3,
     "metadata": {},
     "output_type": "execute_result"
    }
   ],
   "source": [
    "def get_track_id_per_frame(dataset):\n",
    "    sequences = sequence_map[dataset]\n",
    "    final_data = []\n",
    "\n",
    "    for seq in sequences:\n",
    "        \n",
    "        relative_path = f'datasets/{dataset}/train/{seq}/gt/gt.txt'\n",
    "        absolute_path = os.path.join(os.path.dirname(os.getcwd()), relative_path)\n",
    "\n",
    "        # Read the ground truth file\n",
    "        gt = pd.read_csv(absolute_path, header=None)\n",
    "        for line in gt.values:\n",
    "            frame_number, track_id = line[0], line[1]\n",
    "            final_data.append({\n",
    "                'dataset': dataset,\n",
    "                'video': seq,\n",
    "                'frame_number': int(frame_number),\n",
    "                'track_id': int(track_id)\n",
    "            })\n",
    "\n",
    "    return pd.DataFrame(final_data)\n",
    "\n",
    "mot17_gt = get_track_id_per_frame('MOT17')\n",
    "mot20_gt = get_track_id_per_frame('MOT20')\n",
    "\n",
    "mot_gt = pd.concat([mot17_gt, mot20_gt], ignore_index=True)\n",
    "mot_gt"
   ]
  },
  {
   "cell_type": "code",
   "execution_count": 4,
   "metadata": {},
   "outputs": [
    {
     "data": {
      "application/vnd.microsoft.datawrangler.viewer.v0+json": {
       "columns": [
        {
         "name": "index",
         "rawType": "int64",
         "type": "integer"
        },
        {
         "name": "dataset",
         "rawType": "object",
         "type": "string"
        },
        {
         "name": "video",
         "rawType": "object",
         "type": "string"
        },
        {
         "name": "frame_number",
         "rawType": "int64",
         "type": "integer"
        },
        {
         "name": "track_id",
         "rawType": "int64",
         "type": "integer"
        }
       ],
       "conversionMethod": "pd.DataFrame",
       "ref": "e73cb862-f922-4aed-846e-1bda169ca997",
       "rows": [
        [
         "0",
         "MOT17",
         "MOT17-02-FRCNN",
         "1",
         "39"
        ],
        [
         "1",
         "MOT17",
         "MOT17-02-FRCNN",
         "2",
         "39"
        ],
        [
         "2",
         "MOT17",
         "MOT17-02-FRCNN",
         "3",
         "39"
        ],
        [
         "3",
         "MOT17",
         "MOT17-02-FRCNN",
         "4",
         "39"
        ],
        [
         "4",
         "MOT17",
         "MOT17-02-FRCNN",
         "5",
         "39"
        ],
        [
         "5",
         "MOT17",
         "MOT17-02-FRCNN",
         "6",
         "39"
        ],
        [
         "6",
         "MOT17",
         "MOT17-02-FRCNN",
         "7",
         "39"
        ],
        [
         "7",
         "MOT17",
         "MOT17-02-FRCNN",
         "8",
         "39"
        ],
        [
         "8",
         "MOT17",
         "MOT17-02-FRCNN",
         "9",
         "39"
        ],
        [
         "9",
         "MOT17",
         "MOT17-02-FRCNN",
         "10",
         "39"
        ],
        [
         "10",
         "MOT17",
         "MOT17-02-FRCNN",
         "11",
         "40"
        ],
        [
         "11",
         "MOT17",
         "MOT17-02-FRCNN",
         "12",
         "40"
        ],
        [
         "12",
         "MOT17",
         "MOT17-02-FRCNN",
         "13",
         "40"
        ],
        [
         "13",
         "MOT17",
         "MOT17-02-FRCNN",
         "14",
         "40"
        ],
        [
         "14",
         "MOT17",
         "MOT17-02-FRCNN",
         "15",
         "40"
        ],
        [
         "15",
         "MOT17",
         "MOT17-02-FRCNN",
         "16",
         "40"
        ],
        [
         "16",
         "MOT17",
         "MOT17-02-FRCNN",
         "17",
         "40"
        ],
        [
         "17",
         "MOT17",
         "MOT17-02-FRCNN",
         "18",
         "40"
        ],
        [
         "18",
         "MOT17",
         "MOT17-02-FRCNN",
         "19",
         "40"
        ],
        [
         "19",
         "MOT17",
         "MOT17-02-FRCNN",
         "20",
         "41"
        ],
        [
         "20",
         "MOT17",
         "MOT17-02-FRCNN",
         "21",
         "42"
        ],
        [
         "21",
         "MOT17",
         "MOT17-02-FRCNN",
         "22",
         "42"
        ],
        [
         "22",
         "MOT17",
         "MOT17-02-FRCNN",
         "23",
         "42"
        ],
        [
         "23",
         "MOT17",
         "MOT17-02-FRCNN",
         "24",
         "42"
        ],
        [
         "24",
         "MOT17",
         "MOT17-02-FRCNN",
         "25",
         "42"
        ],
        [
         "25",
         "MOT17",
         "MOT17-02-FRCNN",
         "26",
         "42"
        ],
        [
         "26",
         "MOT17",
         "MOT17-02-FRCNN",
         "27",
         "42"
        ],
        [
         "27",
         "MOT17",
         "MOT17-02-FRCNN",
         "28",
         "42"
        ],
        [
         "28",
         "MOT17",
         "MOT17-02-FRCNN",
         "29",
         "42"
        ],
        [
         "29",
         "MOT17",
         "MOT17-02-FRCNN",
         "30",
         "42"
        ],
        [
         "30",
         "MOT17",
         "MOT17-02-FRCNN",
         "31",
         "43"
        ],
        [
         "31",
         "MOT17",
         "MOT17-02-FRCNN",
         "32",
         "43"
        ],
        [
         "32",
         "MOT17",
         "MOT17-02-FRCNN",
         "33",
         "43"
        ],
        [
         "33",
         "MOT17",
         "MOT17-02-FRCNN",
         "34",
         "43"
        ],
        [
         "34",
         "MOT17",
         "MOT17-02-FRCNN",
         "35",
         "43"
        ],
        [
         "35",
         "MOT17",
         "MOT17-02-FRCNN",
         "36",
         "43"
        ],
        [
         "36",
         "MOT17",
         "MOT17-02-FRCNN",
         "37",
         "43"
        ],
        [
         "37",
         "MOT17",
         "MOT17-02-FRCNN",
         "38",
         "43"
        ],
        [
         "38",
         "MOT17",
         "MOT17-02-FRCNN",
         "39",
         "43"
        ],
        [
         "39",
         "MOT17",
         "MOT17-02-FRCNN",
         "40",
         "42"
        ],
        [
         "40",
         "MOT17",
         "MOT17-02-FRCNN",
         "41",
         "43"
        ],
        [
         "41",
         "MOT17",
         "MOT17-02-FRCNN",
         "42",
         "43"
        ],
        [
         "42",
         "MOT17",
         "MOT17-02-FRCNN",
         "43",
         "43"
        ],
        [
         "43",
         "MOT17",
         "MOT17-02-FRCNN",
         "44",
         "42"
        ],
        [
         "44",
         "MOT17",
         "MOT17-02-FRCNN",
         "45",
         "42"
        ],
        [
         "45",
         "MOT17",
         "MOT17-02-FRCNN",
         "46",
         "42"
        ],
        [
         "46",
         "MOT17",
         "MOT17-02-FRCNN",
         "47",
         "42"
        ],
        [
         "47",
         "MOT17",
         "MOT17-02-FRCNN",
         "48",
         "42"
        ],
        [
         "48",
         "MOT17",
         "MOT17-02-FRCNN",
         "49",
         "42"
        ],
        [
         "49",
         "MOT17",
         "MOT17-02-FRCNN",
         "50",
         "42"
        ]
       ],
       "shape": {
        "columns": 4,
        "rows": 14247
       }
      },
      "text/html": [
       "<div>\n",
       "<style scoped>\n",
       "    .dataframe tbody tr th:only-of-type {\n",
       "        vertical-align: middle;\n",
       "    }\n",
       "\n",
       "    .dataframe tbody tr th {\n",
       "        vertical-align: top;\n",
       "    }\n",
       "\n",
       "    .dataframe thead th {\n",
       "        text-align: right;\n",
       "    }\n",
       "</style>\n",
       "<table border=\"1\" class=\"dataframe\">\n",
       "  <thead>\n",
       "    <tr style=\"text-align: right;\">\n",
       "      <th></th>\n",
       "      <th>dataset</th>\n",
       "      <th>video</th>\n",
       "      <th>frame_number</th>\n",
       "      <th>track_id</th>\n",
       "    </tr>\n",
       "  </thead>\n",
       "  <tbody>\n",
       "    <tr>\n",
       "      <th>0</th>\n",
       "      <td>MOT17</td>\n",
       "      <td>MOT17-02-FRCNN</td>\n",
       "      <td>1</td>\n",
       "      <td>39</td>\n",
       "    </tr>\n",
       "    <tr>\n",
       "      <th>1</th>\n",
       "      <td>MOT17</td>\n",
       "      <td>MOT17-02-FRCNN</td>\n",
       "      <td>2</td>\n",
       "      <td>39</td>\n",
       "    </tr>\n",
       "    <tr>\n",
       "      <th>2</th>\n",
       "      <td>MOT17</td>\n",
       "      <td>MOT17-02-FRCNN</td>\n",
       "      <td>3</td>\n",
       "      <td>39</td>\n",
       "    </tr>\n",
       "    <tr>\n",
       "      <th>3</th>\n",
       "      <td>MOT17</td>\n",
       "      <td>MOT17-02-FRCNN</td>\n",
       "      <td>4</td>\n",
       "      <td>39</td>\n",
       "    </tr>\n",
       "    <tr>\n",
       "      <th>4</th>\n",
       "      <td>MOT17</td>\n",
       "      <td>MOT17-02-FRCNN</td>\n",
       "      <td>5</td>\n",
       "      <td>39</td>\n",
       "    </tr>\n",
       "    <tr>\n",
       "      <th>...</th>\n",
       "      <td>...</td>\n",
       "      <td>...</td>\n",
       "      <td>...</td>\n",
       "      <td>...</td>\n",
       "    </tr>\n",
       "    <tr>\n",
       "      <th>14242</th>\n",
       "      <td>MOT20</td>\n",
       "      <td>MOT20-05</td>\n",
       "      <td>3311</td>\n",
       "      <td>225</td>\n",
       "    </tr>\n",
       "    <tr>\n",
       "      <th>14243</th>\n",
       "      <td>MOT20</td>\n",
       "      <td>MOT20-05</td>\n",
       "      <td>3312</td>\n",
       "      <td>226</td>\n",
       "    </tr>\n",
       "    <tr>\n",
       "      <th>14244</th>\n",
       "      <td>MOT20</td>\n",
       "      <td>MOT20-05</td>\n",
       "      <td>3313</td>\n",
       "      <td>226</td>\n",
       "    </tr>\n",
       "    <tr>\n",
       "      <th>14245</th>\n",
       "      <td>MOT20</td>\n",
       "      <td>MOT20-05</td>\n",
       "      <td>3314</td>\n",
       "      <td>226</td>\n",
       "    </tr>\n",
       "    <tr>\n",
       "      <th>14246</th>\n",
       "      <td>MOT20</td>\n",
       "      <td>MOT20-05</td>\n",
       "      <td>3315</td>\n",
       "      <td>227</td>\n",
       "    </tr>\n",
       "  </tbody>\n",
       "</table>\n",
       "<p>14247 rows × 4 columns</p>\n",
       "</div>"
      ],
      "text/plain": [
       "      dataset           video  frame_number  track_id\n",
       "0       MOT17  MOT17-02-FRCNN             1        39\n",
       "1       MOT17  MOT17-02-FRCNN             2        39\n",
       "2       MOT17  MOT17-02-FRCNN             3        39\n",
       "3       MOT17  MOT17-02-FRCNN             4        39\n",
       "4       MOT17  MOT17-02-FRCNN             5        39\n",
       "...       ...             ...           ...       ...\n",
       "14242   MOT20        MOT20-05          3311       225\n",
       "14243   MOT20        MOT20-05          3312       226\n",
       "14244   MOT20        MOT20-05          3313       226\n",
       "14245   MOT20        MOT20-05          3314       226\n",
       "14246   MOT20        MOT20-05          3315       227\n",
       "\n",
       "[14247 rows x 4 columns]"
      ]
     },
     "execution_count": 4,
     "metadata": {},
     "output_type": "execute_result"
    }
   ],
   "source": [
    "tracker_count_per_frame = mot_gt.groupby(['dataset', 'video', 'frame_number']).agg({'track_id': 'count'}).reset_index()\n",
    "tracker_count_per_frame"
   ]
  },
  {
   "cell_type": "code",
   "execution_count": 37,
   "metadata": {},
   "outputs": [
    {
     "data": {
      "image/png": "[encoded data removed]",
      "text/plain": [
       "<Figure size 800x500 with 1 Axes>"
      ]
     },
     "metadata": {},
     "output_type": "display_data"
    }
   ],
   "source": [
    "import matplotlib.pyplot as plt\n",
    "import seaborn as sns\n",
    "\n",
    "# Define color palette\n",
    "colors = {\"MOT17\": \"blue\", \"MOT20\": \"red\"}\n",
    "\n",
    "plt.figure(figsize=(8, 5))\n",
    "\n",
    "# Plot distribution for both datasets\n",
    "for dataset in [\"MOT17\", \"MOT20\"]:\n",
    "    subset = tracker_count_per_frame[tracker_count_per_frame[\"dataset\"] == dataset]\n",
    "    \n",
    "    sns.histplot(\n",
    "        data=subset,\n",
    "        x=\"track_id\",\n",
    "        stat=\"count\",  # Show actual counts instead of probability density\n",
    "        bins=30,\n",
    "        color=colors[dataset],\n",
    "        label=dataset,\n",
    "        alpha=0.6  # Transparency for overlap visualization\n",
    "    )\n",
    "\n",
    "# Labels and legend\n",
    "plt.title(\"Distribution of Track IDs Per Frame\", fontsize=18)\n",
    "plt.xlabel(\"Number of Track IDs per Frame\", fontsize=18)\n",
    "plt.ylabel(\"Density\", fontsize=18)  # Changed from Probability Density\n",
    "plt.xticks(fontsize=15)\n",
    "plt.yticks(fontsize=15)\n",
    "plt.legend(title=\"Dataset\", fontsize=15, title_fontsize=15)\n",
    "\n",
    "plt.grid(False)\n",
    "plt.tight_layout()\n",
    "plt.savefig('pdf_dataset.png')  # Updated filename to reflect distribution\n",
    "plt.show()"
   ]
  },
  {
   "cell_type": "code",
   "execution_count": 35,
   "metadata": {},
   "outputs": [
    {
     "data": {
      "image/png": "[encoded data removed]",
      "text/plain": [
       "<Figure size 800x500 with 1 Axes>"
      ]
     },
     "metadata": {},
     "output_type": "display_data"
    }
   ],
   "source": [
    "tracker_count_per_frame[\"max_frame\"] = tracker_count_per_frame.groupby(\"video\")[\"frame_number\"].transform(\"max\")\n",
    "second_half_df = tracker_count_per_frame[tracker_count_per_frame[\"frame_number\"] > tracker_count_per_frame[\"max_frame\"] / 2]\n",
    "\n",
    "plt.figure(figsize=(8, 5))\n",
    "\n",
    "# Plot CDFs for both datasets\n",
    "for dataset in [\"MOT17\", \"MOT20\"]:\n",
    "    subset = second_half_df[second_half_df[\"dataset\"] == dataset]\n",
    "    \n",
    "    sns.ecdfplot(\n",
    "        data=subset,\n",
    "        x=\"track_id\",\n",
    "        color=colors[dataset],\n",
    "        label=dataset,\n",
    "        linewidth=4  # Make lines more prominent\n",
    "    )\n",
    "\n",
    "# Labels and legend\n",
    "plt.title(\"CDF of Track IDs Per Frame (Second Half)\", fontsize=18)\n",
    "plt.xlabel(\"Number of Track IDs per Frame\", fontsize=18)\n",
    "plt.ylabel(\"Cumulative Probability\", fontsize=18)\n",
    "plt.xticks(fontsize=15)\n",
    "plt.yticks(fontsize=15)\n",
    "plt.legend(title=\"Dataset\", fontsize=15, title_fontsize=15)\n",
    "\n",
    "plt.grid(False)  # Disable grid for a clean look\n",
    "plt.tight_layout()\n",
    "plt.savefig('cdf.png')\n",
    "plt.show()"
   ]
  },
  {
   "cell_type": "code",
   "execution_count": null,
   "metadata": {},
   "outputs": [],
   "source": []
  }
 ],
 "metadata": {
  "kernelspec": {
   "display_name": "Python 3",
   "language": "python",
   "name": "python3"
  },
  "language_info": {
   "codemirror_mode": {
    "name": "ipython",
    "version": 3
   },
   "file_extension": ".py",
   "mimetype": "text/x-python",
   "name": "python",
   "nbconvert_exporter": "python",
   "pygments_lexer": "ipython3",
   "version": "3.10.12"
  }
 },
 "nbformat": 4,
 "nbformat_minor": 2
}
